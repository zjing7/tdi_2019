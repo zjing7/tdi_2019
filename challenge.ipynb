{
 "cells": [
  {
   "cell_type": "code",
   "execution_count": 1,
   "metadata": {},
   "outputs": [],
   "source": [
    "import pandas as pd\n",
    "import numpy as np\n",
    "import time\n",
    "import datetime\n",
    "import matplotlib.pyplot as plt\n",
    "from sklearn.linear_model import LinearRegression"
   ]
  },
  {
   "cell_type": "code",
   "execution_count": 2,
   "metadata": {
    "collapsed": true
   },
   "outputs": [],
   "source": [
    "FILE1 = \"Arrest_Data_from_2010_to_Present.csv\"\n",
    "\n",
    "df_la = pd.read_csv(FILE1, header=0, infer_datetime_format=True, parse_dates=['Arrest Date'])\n",
    "df_la['Year'] = df_la['Arrest Date'].apply(lambda t:t.year)"
   ]
  },
  {
   "cell_type": "code",
   "execution_count": 3,
   "metadata": {},
   "outputs": [
    {
     "data": {
      "text/plain": [
       "104277"
      ]
     },
     "execution_count": 3,
     "metadata": {},
     "output_type": "execute_result"
    }
   ],
   "source": [
    "(df_la[df_la['Year'] == 2018]).count()['Report ID']"
   ]
  },
  {
   "cell_type": "code",
   "execution_count": 13,
   "metadata": {},
   "outputs": [
    {
     "data": {
      "text/plain": [
       "Report ID    10951\n",
       "dtype: int64"
      ]
     },
     "execution_count": 13,
     "metadata": {},
     "output_type": "execute_result"
    }
   ],
   "source": [
    "area_counts = df_la[df_la['Year'] == 2018][['Area ID','Report ID']].groupby('Area ID').count()\n",
    "area_counts.max()"
   ]
  },
  {
   "cell_type": "code",
   "execution_count": 5,
   "metadata": {},
   "outputs": [
    {
     "data": {
      "text/plain": [
       "52.0"
      ]
     },
     "execution_count": 5,
     "metadata": {},
     "output_type": "execute_result"
    }
   ],
   "source": [
    "charge_groups = ('Vehicle Theft', 'Burglary', 'Receive Stolen Property', 'Robbery')\n",
    "df_la[(df_la['Year']==2018) & (df_la['Charge Group Description'].isin(charge_groups))]['Age'].quantile(0.95)"
   ]
  },
  {
   "cell_type": "code",
   "execution_count": 6,
   "metadata": {},
   "outputs": [
    {
     "data": {
      "text/plain": [
       "2.1278699344353633"
      ]
     },
     "execution_count": 6,
     "metadata": {},
     "output_type": "execute_result"
    }
   ],
   "source": [
    "drop_charge_groups = ('Pre-Delinquency', 'Non-Criminal Detention')\n",
    "mask = (df_la['Year']==2018) & ~((df_la['Charge Group Description'].isnull()) | (df_la['Charge Group Description'].isin(drop_charge_groups)))\n",
    "mean_ages = df_la[mask].groupby('Charge Group Description').mean()['Age']\n",
    "zscore = (mean_ages - mean_ages.mean())/mean_ages.std()\n",
    "zscore.abs().max()"
   ]
  },
  {
   "cell_type": "code",
   "execution_count": 7,
   "metadata": {},
   "outputs": [
    {
     "data": {
      "image/png": "[encoded data removed]",
      "text/plain": [
       "<matplotlib.figure.Figure at 0x1381f2032e8>"
      ]
     },
     "metadata": {},
     "output_type": "display_data"
    },
    {
     "data": {
      "text/plain": [
       "31037.805555555969"
      ]
     },
     "execution_count": 7,
     "metadata": {},
     "output_type": "execute_result"
    }
   ],
   "source": [
    "year_counts = df_la[(df_la['Arrest Type Code']=='F') & (df_la['Year']<=2018)][['Year', 'Report ID']].groupby('Year').count()\n",
    "\n",
    "X = np.array(year_counts.index).reshape(-1, 1)\n",
    "Y = year_counts['Report ID']\n",
    "\n",
    "model = LinearRegression()\n",
    "model.fit(X, Y)\n",
    "\n",
    "Xnew = np.array([2010, 2019])\n",
    "Ynew = model.predict(Xnew.reshape(-1, 1))\n",
    "plt.plot(X, Y, 'o')\n",
    "plt.plot(Xnew, Ynew)\n",
    "plt.xlabel('Year')\n",
    "plt.ylabel('#Felony')\n",
    "plt.show()\n",
    "Ynew[1]\n",
    "#df_la.head()"
   ]
  },
  {
   "cell_type": "code",
   "execution_count": 8,
   "metadata": {},
   "outputs": [],
   "source": [
    "def calc_dist(location, R0):\n",
    "    R1 = location\n",
    "    RADIAN = 180/np.pi\n",
    "    RADIUS = 6371\n",
    "    dP = (R1[0]-R0[0])/RADIAN\n",
    "    dL = (R1[1]-R0[1])/RADIAN\n",
    "    mP = (R1[0]+R0[0])/2/RADIAN\n",
    "    #dist = RADIUS * np.sqrt(((R1[1]-R0[1])/RADIAN)**2.0 + (np.cos((R1[0]+R0[0])/2.0/RADIAN)*(R1[0]-R0[0])/RADIAN)**2.0)\n",
    "    dist = RADIUS * np.sqrt(dP**2.0 + (np.cos(mP)*dL)**2.0)\n",
    "    return dist\n",
    "\n",
    "R_building = 34.050536, -118.247861\n",
    "df_la['Lattitude'] = df_la['Location'].apply(lambda t:float(t[1:-1].split(',')[0]))\n",
    "df_la['Longitude'] = df_la['Location'].apply(lambda t:float(t[1:-1].split(',')[1]))\n",
    "\n",
    "ser_dist = calc_dist([df_la['Lattitude'], df_la['Longitude']], R_building)\n",
    "    "
   ]
  },
  {
   "cell_type": "code",
   "execution_count": 9,
   "metadata": {},
   "outputs": [
    {
     "data": {
      "text/plain": [
       "11461"
      ]
     },
     "execution_count": 9,
     "metadata": {},
     "output_type": "execute_result"
    }
   ],
   "source": [
    "df_la[(df_la['Year'] == 2018) & (ser_dist<=2) & (df_la['Location'] != '(0, 0)')]['Report ID'].count()"
   ]
  },
  {
   "cell_type": "code",
   "execution_count": 10,
   "metadata": {},
   "outputs": [
    {
     "data": {
      "text/plain": [
       "27.656599084552607"
      ]
     },
     "execution_count": 10,
     "metadata": {},
     "output_type": "execute_result"
    }
   ],
   "source": [
    "mask = (df_la['Year']==2018)&(df_la['Address'].str.contains('PICO'))\n",
    "loc_mean = df_la[mask][['Lattitude', 'Longitude']].mean()\n",
    "loc_std = df_la[mask][['Lattitude', 'Longitude']].std()\n",
    "mask_outlier = ((df_la[mask][['Lattitude', 'Longitude']] - loc_mean).abs() > loc_std*2).any(axis=1)\n",
    "count = df_la[mask][~mask_outlier][['Longitude']].count()[0]\n",
    "min_lg = df_la[mask][~mask_outlier][['Longitude']].min()[0]\n",
    "max_lg = df_la[mask][~mask_outlier][['Longitude']].max()[0]\n",
    "loc_min = df_la[mask & (df_la['Longitude'] == min_lg)][['Lattitude', 'Longitude']].iloc[0, :]\n",
    "loc_max = df_la[mask & (df_la['Longitude'] == max_lg)][['Lattitude', 'Longitude']].iloc[0, :]\n",
    "blvd_len = calc_dist(loc_min, loc_max)\n",
    "count/blvd_len\n"
   ]
  },
  {
   "cell_type": "code",
   "execution_count": 11,
   "metadata": {},
   "outputs": [
    {
     "data": {
      "text/plain": [
       "3.515076379865202"
      ]
     },
     "execution_count": 11,
     "metadata": {},
     "output_type": "execute_result"
    }
   ],
   "source": [
    "mask = (df_la['Year']<=2018) & ~(df_la['Charge Group Code'].isnull()) & ~(df_la['Charge Group Code'] == 99)\n",
    "area_counts = df_la[['Report ID', 'Charge Group Code', 'Area ID']][mask].groupby(['Charge Group Code', 'Area ID']).count().unstack(1)\n",
    "total_freq = area_counts.sum(axis=1) / area_counts.sum().sum()\n",
    "area_freq = area_counts / area_counts.sum()\n",
    "con_freq = np.array(area_freq)/np.array(total_freq).reshape(-1, 1)\n",
    "np.mean(sorted(con_freq.reshape(-1))[-5:])"
   ]
  },
  {
   "cell_type": "code",
   "execution_count": null,
   "metadata": {
    "collapsed": true
   },
   "outputs": [],
   "source": []
  }
 ],
 "metadata": {
  "kernelspec": {
   "display_name": "Python 3",
   "language": "python",
   "name": "python3"
  },
  "language_info": {
   "codemirror_mode": {
    "name": "ipython",
    "version": 3
   },
   "file_extension": ".py",
   "mimetype": "text/x-python",
   "name": "python",
   "nbconvert_exporter": "python",
   "pygments_lexer": "ipython3",
   "version": "3.6.3"
  }
 },
 "nbformat": 4,
 "nbformat_minor": 2
}
