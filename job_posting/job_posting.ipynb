{
 "cells": [
  {
   "cell_type": "code",
   "execution_count": 1,
   "metadata": {
    "collapsed": true
   },
   "outputs": [],
   "source": [
    "import pandas as pd\n",
    "import numpy as np\n",
    "import matplotlib.pyplot as plt\n",
    "import time\n",
    "import seaborn as sns\n",
    "from collections import defaultdict\n",
    "import string\n",
    "\n",
    "USER_NAME = 'zj2244'\n",
    "USER_NAME = 'jzf02'\n",
    "\n",
    "DATA_FRAME1 = r\"C:\\Users\"+\"\\\\\"+USER_NAME+r\"\\Downloads\\temp_datalab_records_linkedin_company\\temp_datalab_records_linkedin_company.csv\"\n",
    "DATA_FRAME1 = r\"C:\\Users\"+\"\\\\\"+USER_NAME+r\"\\Downloads\\temp_datalab_records_linkedin_company.zip\"\n",
    "DATA_FRAME2 = r\"C:\\Users\"+\"\\\\\"+USER_NAME+r\"\\Downloads\\temp_datalab_records_job_listings\\temp_datalab_records_job_listings.csv\"\n",
    "DATA_FRAME3 = r\"C:\\Users\"+\"\\\\\"+USER_NAME+r\"\\Downloads\\temp_datalab_records_social_facebook.zip\"\n",
    "#CSV_A = [r\"C:\\Users\"+\"\\\\\"+USER_NAME+r\"\\Downloads\\temp_datalab_records_job_listings\" + \"_%d\"%_k+\".zip\" for _k in range(1,7)]\n",
    "CSV_A = [r\"C:\\Users\"+\"\\\\\"+USER_NAME+r\"\\Downloads\\temp_datalab_records_job_listings\" + \" (%d)\"%_k+\".zip\" for _k in range(1,8)]\n",
    "CSV_B = r\"C:\\Users\"+\"\\\\\"+USER_NAME+r\"\\Downloads\\temp_datalab_records_linkedin_company.zip\"\n",
    "CSV_C = r\"C:\\Users\"+\"\\\\\"+USER_NAME+r\"\\Downloads\\temp_datalab_records_social_facebook.zip\"\n"
   ]
  },
  {
   "cell_type": "code",
   "execution_count": 2,
   "metadata": {},
   "outputs": [
    {
     "name": "stderr",
     "output_type": "stream",
     "text": [
      "C:\\Users\\jzf02\\Anaconda3\\lib\\site-packages\\IPython\\core\\interactiveshell.py:2698: DtypeWarning: Columns (9,10) have mixed types. Specify dtype option on import or set low_memory=False.\n",
      "  interactivity=interactivity, compiler=compiler, result=result)\n",
      "C:\\Users\\jzf02\\Anaconda3\\lib\\site-packages\\IPython\\core\\interactiveshell.py:2698: DtypeWarning: Columns (9) have mixed types. Specify dtype option on import or set low_memory=False.\n",
      "  interactivity=interactivity, compiler=compiler, result=result)\n"
     ]
    }
   ],
   "source": [
    "df2 = pd.read_csv(CSV_B)\n",
    "#df1 = pd.read_csv(DATA_FRAME2)\n",
    "#df3 = pd.read_csv(CSV_C)"
   ]
  },
  {
   "cell_type": "code",
   "execution_count": 3,
   "metadata": {
    "collapsed": true
   },
   "outputs": [],
   "source": [
    "def read_domains(domain_names, chunk=100000):\n",
    "    df_list = []\n",
    "    columns = ['domain', 'as_of_date', 'title', 'listing_id', 'posted_date', 'country']\n",
    "    for filename in CSV_A:\n",
    "        df_reader = pd.read_csv(filename, chunksize=chunk, infer_datetime_format=True, parse_dates=['as_of_date', 'posted_date'])\n",
    "        count = 0\n",
    "        for curr_df in df_reader:\n",
    "            count += 1\n",
    "            domains = set(curr_df['domain'])\n",
    "            common = set()\n",
    "            for domain in domains:\n",
    "                matched = False\n",
    "                for name in domain_names:\n",
    "                    if name in domain:\n",
    "                        matched = True\n",
    "                        break\n",
    "                if matched:\n",
    "                    common.add(domain)\n",
    "            df_list.append(curr_df[curr_df['domain'].isin(common)][columns].copy())\n",
    "            if count % 10 == 0:\n",
    "                print('Finished reading %d chunks of %s'%(count, filename))\n",
    "    return pd.concat(df_list)\n",
    "                \n",
    "            \n",
    "    "
   ]
  },
  {
   "cell_type": "code",
   "execution_count": 4,
   "metadata": {},
   "outputs": [
    {
     "name": "stderr",
     "output_type": "stream",
     "text": [
      "C:\\Users\\jzf02\\Anaconda3\\lib\\site-packages\\IPython\\core\\interactiveshell.py:2802: DtypeWarning: Columns (7) have mixed types. Specify dtype option on import or set low_memory=False.\n",
      "  if self.run_code(code, result):\n",
      "C:\\Users\\jzf02\\Anaconda3\\lib\\site-packages\\IPython\\core\\interactiveshell.py:2802: DtypeWarning: Columns (6) have mixed types. Specify dtype option on import or set low_memory=False.\n",
      "  if self.run_code(code, result):\n",
      "C:\\Users\\jzf02\\Anaconda3\\lib\\site-packages\\IPython\\core\\interactiveshell.py:2802: DtypeWarning: Columns (6,7) have mixed types. Specify dtype option on import or set low_memory=False.\n",
      "  if self.run_code(code, result):\n"
     ]
    },
    {
     "name": "stdout",
     "output_type": "stream",
     "text": [
      "Finished reading 10 chunks of C:\\Users\\jzf02\\Downloads\\temp_datalab_records_job_listings (1).zip\n",
      "Finished reading 20 chunks of C:\\Users\\jzf02\\Downloads\\temp_datalab_records_job_listings (1).zip\n",
      "Finished reading 30 chunks of C:\\Users\\jzf02\\Downloads\\temp_datalab_records_job_listings (1).zip\n",
      "Finished reading 40 chunks of C:\\Users\\jzf02\\Downloads\\temp_datalab_records_job_listings (1).zip\n",
      "Finished reading 50 chunks of C:\\Users\\jzf02\\Downloads\\temp_datalab_records_job_listings (1).zip\n",
      "Finished reading 60 chunks of C:\\Users\\jzf02\\Downloads\\temp_datalab_records_job_listings (1).zip\n",
      "Finished reading 70 chunks of C:\\Users\\jzf02\\Downloads\\temp_datalab_records_job_listings (1).zip\n",
      "Finished reading 80 chunks of C:\\Users\\jzf02\\Downloads\\temp_datalab_records_job_listings (1).zip\n",
      "Finished reading 90 chunks of C:\\Users\\jzf02\\Downloads\\temp_datalab_records_job_listings (1).zip\n",
      "Finished reading 100 chunks of C:\\Users\\jzf02\\Downloads\\temp_datalab_records_job_listings (1).zip\n",
      "Finished reading 110 chunks of C:\\Users\\jzf02\\Downloads\\temp_datalab_records_job_listings (1).zip\n",
      "Finished reading 120 chunks of C:\\Users\\jzf02\\Downloads\\temp_datalab_records_job_listings (1).zip\n",
      "Finished reading 130 chunks of C:\\Users\\jzf02\\Downloads\\temp_datalab_records_job_listings (1).zip\n",
      "Finished reading 140 chunks of C:\\Users\\jzf02\\Downloads\\temp_datalab_records_job_listings (1).zip\n",
      "Finished reading 150 chunks of C:\\Users\\jzf02\\Downloads\\temp_datalab_records_job_listings (1).zip\n",
      "Finished reading 160 chunks of C:\\Users\\jzf02\\Downloads\\temp_datalab_records_job_listings (1).zip\n",
      "Finished reading 170 chunks of C:\\Users\\jzf02\\Downloads\\temp_datalab_records_job_listings (1).zip\n",
      "Finished reading 180 chunks of C:\\Users\\jzf02\\Downloads\\temp_datalab_records_job_listings (1).zip\n",
      "Finished reading 190 chunks of C:\\Users\\jzf02\\Downloads\\temp_datalab_records_job_listings (1).zip\n",
      "Finished reading 200 chunks of C:\\Users\\jzf02\\Downloads\\temp_datalab_records_job_listings (1).zip\n",
      "Finished reading 210 chunks of C:\\Users\\jzf02\\Downloads\\temp_datalab_records_job_listings (1).zip\n",
      "Finished reading 220 chunks of C:\\Users\\jzf02\\Downloads\\temp_datalab_records_job_listings (1).zip\n",
      "Finished reading 230 chunks of C:\\Users\\jzf02\\Downloads\\temp_datalab_records_job_listings (1).zip\n",
      "Finished reading 240 chunks of C:\\Users\\jzf02\\Downloads\\temp_datalab_records_job_listings (1).zip\n",
      "Finished reading 250 chunks of C:\\Users\\jzf02\\Downloads\\temp_datalab_records_job_listings (1).zip\n",
      "Finished reading 260 chunks of C:\\Users\\jzf02\\Downloads\\temp_datalab_records_job_listings (1).zip\n",
      "Finished reading 270 chunks of C:\\Users\\jzf02\\Downloads\\temp_datalab_records_job_listings (1).zip\n",
      "Finished reading 280 chunks of C:\\Users\\jzf02\\Downloads\\temp_datalab_records_job_listings (1).zip\n",
      "Finished reading 290 chunks of C:\\Users\\jzf02\\Downloads\\temp_datalab_records_job_listings (1).zip\n",
      "Finished reading 300 chunks of C:\\Users\\jzf02\\Downloads\\temp_datalab_records_job_listings (1).zip\n",
      "Finished reading 310 chunks of C:\\Users\\jzf02\\Downloads\\temp_datalab_records_job_listings (1).zip\n",
      "Finished reading 320 chunks of C:\\Users\\jzf02\\Downloads\\temp_datalab_records_job_listings (1).zip\n",
      "Finished reading 330 chunks of C:\\Users\\jzf02\\Downloads\\temp_datalab_records_job_listings (1).zip\n",
      "Finished reading 340 chunks of C:\\Users\\jzf02\\Downloads\\temp_datalab_records_job_listings (1).zip\n",
      "Finished reading 350 chunks of C:\\Users\\jzf02\\Downloads\\temp_datalab_records_job_listings (1).zip\n"
     ]
    },
    {
     "name": "stderr",
     "output_type": "stream",
     "text": [
      "C:\\Users\\jzf02\\Anaconda3\\lib\\site-packages\\IPython\\core\\interactiveshell.py:2802: DtypeWarning: Columns (16) have mixed types. Specify dtype option on import or set low_memory=False.\n",
      "  if self.run_code(code, result):\n"
     ]
    },
    {
     "name": "stdout",
     "output_type": "stream",
     "text": [
      "Finished reading 360 chunks of C:\\Users\\jzf02\\Downloads\\temp_datalab_records_job_listings (1).zip\n"
     ]
    },
    {
     "name": "stderr",
     "output_type": "stream",
     "text": [
      "C:\\Users\\jzf02\\Anaconda3\\lib\\site-packages\\IPython\\core\\interactiveshell.py:2802: DtypeWarning: Columns (7,16) have mixed types. Specify dtype option on import or set low_memory=False.\n",
      "  if self.run_code(code, result):\n"
     ]
    },
    {
     "name": "stdout",
     "output_type": "stream",
     "text": [
      "Finished reading 370 chunks of C:\\Users\\jzf02\\Downloads\\temp_datalab_records_job_listings (1).zip\n"
     ]
    },
    {
     "name": "stderr",
     "output_type": "stream",
     "text": [
      "C:\\Users\\jzf02\\Anaconda3\\lib\\site-packages\\IPython\\core\\interactiveshell.py:2802: DtypeWarning: Columns (6,16) have mixed types. Specify dtype option on import or set low_memory=False.\n",
      "  if self.run_code(code, result):\n"
     ]
    },
    {
     "name": "stdout",
     "output_type": "stream",
     "text": [
      "Finished reading 380 chunks of C:\\Users\\jzf02\\Downloads\\temp_datalab_records_job_listings (1).zip\n",
      "Finished reading 390 chunks of C:\\Users\\jzf02\\Downloads\\temp_datalab_records_job_listings (1).zip\n",
      "Finished reading 400 chunks of C:\\Users\\jzf02\\Downloads\\temp_datalab_records_job_listings (1).zip\n"
     ]
    },
    {
     "name": "stderr",
     "output_type": "stream",
     "text": [
      "C:\\Users\\jzf02\\Anaconda3\\lib\\site-packages\\IPython\\core\\interactiveshell.py:2802: DtypeWarning: Columns (6,7,16) have mixed types. Specify dtype option on import or set low_memory=False.\n",
      "  if self.run_code(code, result):\n"
     ]
    },
    {
     "name": "stdout",
     "output_type": "stream",
     "text": [
      "Finished reading 410 chunks of C:\\Users\\jzf02\\Downloads\\temp_datalab_records_job_listings (1).zip\n",
      "Finished reading 420 chunks of C:\\Users\\jzf02\\Downloads\\temp_datalab_records_job_listings (1).zip\n",
      "Finished reading 430 chunks of C:\\Users\\jzf02\\Downloads\\temp_datalab_records_job_listings (1).zip\n",
      "Finished reading 440 chunks of C:\\Users\\jzf02\\Downloads\\temp_datalab_records_job_listings (1).zip\n",
      "Finished reading 450 chunks of C:\\Users\\jzf02\\Downloads\\temp_datalab_records_job_listings (1).zip\n",
      "Finished reading 460 chunks of C:\\Users\\jzf02\\Downloads\\temp_datalab_records_job_listings (1).zip\n",
      "Finished reading 470 chunks of C:\\Users\\jzf02\\Downloads\\temp_datalab_records_job_listings (1).zip\n",
      "Finished reading 480 chunks of C:\\Users\\jzf02\\Downloads\\temp_datalab_records_job_listings (1).zip\n",
      "Finished reading 490 chunks of C:\\Users\\jzf02\\Downloads\\temp_datalab_records_job_listings (1).zip\n",
      "Finished reading 500 chunks of C:\\Users\\jzf02\\Downloads\\temp_datalab_records_job_listings (1).zip\n",
      "Finished reading 510 chunks of C:\\Users\\jzf02\\Downloads\\temp_datalab_records_job_listings (1).zip\n",
      "Finished reading 520 chunks of C:\\Users\\jzf02\\Downloads\\temp_datalab_records_job_listings (1).zip\n"
     ]
    },
    {
     "name": "stderr",
     "output_type": "stream",
     "text": [
      "C:\\Users\\jzf02\\Anaconda3\\lib\\site-packages\\IPython\\core\\interactiveshell.py:2802: DtypeWarning: Columns (6,8,9,10,16) have mixed types. Specify dtype option on import or set low_memory=False.\n",
      "  if self.run_code(code, result):\n"
     ]
    },
    {
     "name": "stdout",
     "output_type": "stream",
     "text": [
      "Finished reading 530 chunks of C:\\Users\\jzf02\\Downloads\\temp_datalab_records_job_listings (1).zip\n"
     ]
    },
    {
     "name": "stderr",
     "output_type": "stream",
     "text": [
      "C:\\Users\\jzf02\\Anaconda3\\lib\\site-packages\\IPython\\core\\interactiveshell.py:2802: DtypeWarning: Columns (6,7,8,9,10,15,16) have mixed types. Specify dtype option on import or set low_memory=False.\n",
      "  if self.run_code(code, result):\n"
     ]
    },
    {
     "name": "stdout",
     "output_type": "stream",
     "text": [
      "Finished reading 540 chunks of C:\\Users\\jzf02\\Downloads\\temp_datalab_records_job_listings (1).zip\n",
      "Finished reading 550 chunks of C:\\Users\\jzf02\\Downloads\\temp_datalab_records_job_listings (1).zip\n",
      "Finished reading 560 chunks of C:\\Users\\jzf02\\Downloads\\temp_datalab_records_job_listings (1).zip\n",
      "Finished reading 570 chunks of C:\\Users\\jzf02\\Downloads\\temp_datalab_records_job_listings (1).zip\n",
      "Finished reading 580 chunks of C:\\Users\\jzf02\\Downloads\\temp_datalab_records_job_listings (1).zip\n",
      "Finished reading 590 chunks of C:\\Users\\jzf02\\Downloads\\temp_datalab_records_job_listings (1).zip\n",
      "Finished reading 600 chunks of C:\\Users\\jzf02\\Downloads\\temp_datalab_records_job_listings (1).zip\n",
      "Finished reading 610 chunks of C:\\Users\\jzf02\\Downloads\\temp_datalab_records_job_listings (1).zip\n",
      "Finished reading 620 chunks of C:\\Users\\jzf02\\Downloads\\temp_datalab_records_job_listings (1).zip\n",
      "Finished reading 10 chunks of C:\\Users\\jzf02\\Downloads\\temp_datalab_records_job_listings (2).zip\n",
      "Finished reading 20 chunks of C:\\Users\\jzf02\\Downloads\\temp_datalab_records_job_listings (2).zip\n",
      "Finished reading 30 chunks of C:\\Users\\jzf02\\Downloads\\temp_datalab_records_job_listings (2).zip\n",
      "Finished reading 40 chunks of C:\\Users\\jzf02\\Downloads\\temp_datalab_records_job_listings (2).zip\n",
      "Finished reading 50 chunks of C:\\Users\\jzf02\\Downloads\\temp_datalab_records_job_listings (2).zip\n",
      "Finished reading 60 chunks of C:\\Users\\jzf02\\Downloads\\temp_datalab_records_job_listings (2).zip\n",
      "Finished reading 70 chunks of C:\\Users\\jzf02\\Downloads\\temp_datalab_records_job_listings (2).zip\n",
      "Finished reading 80 chunks of C:\\Users\\jzf02\\Downloads\\temp_datalab_records_job_listings (2).zip\n",
      "Finished reading 90 chunks of C:\\Users\\jzf02\\Downloads\\temp_datalab_records_job_listings (2).zip\n",
      "Finished reading 100 chunks of C:\\Users\\jzf02\\Downloads\\temp_datalab_records_job_listings (2).zip\n",
      "Finished reading 110 chunks of C:\\Users\\jzf02\\Downloads\\temp_datalab_records_job_listings (2).zip\n",
      "Finished reading 120 chunks of C:\\Users\\jzf02\\Downloads\\temp_datalab_records_job_listings (2).zip\n",
      "Finished reading 130 chunks of C:\\Users\\jzf02\\Downloads\\temp_datalab_records_job_listings (2).zip\n",
      "Finished reading 140 chunks of C:\\Users\\jzf02\\Downloads\\temp_datalab_records_job_listings (2).zip\n",
      "Finished reading 150 chunks of C:\\Users\\jzf02\\Downloads\\temp_datalab_records_job_listings (2).zip\n",
      "Finished reading 160 chunks of C:\\Users\\jzf02\\Downloads\\temp_datalab_records_job_listings (2).zip\n",
      "Finished reading 170 chunks of C:\\Users\\jzf02\\Downloads\\temp_datalab_records_job_listings (2).zip\n",
      "Finished reading 180 chunks of C:\\Users\\jzf02\\Downloads\\temp_datalab_records_job_listings (2).zip\n",
      "Finished reading 190 chunks of C:\\Users\\jzf02\\Downloads\\temp_datalab_records_job_listings (2).zip\n",
      "Finished reading 200 chunks of C:\\Users\\jzf02\\Downloads\\temp_datalab_records_job_listings (2).zip\n",
      "Finished reading 210 chunks of C:\\Users\\jzf02\\Downloads\\temp_datalab_records_job_listings (2).zip\n",
      "Finished reading 220 chunks of C:\\Users\\jzf02\\Downloads\\temp_datalab_records_job_listings (2).zip\n",
      "Finished reading 230 chunks of C:\\Users\\jzf02\\Downloads\\temp_datalab_records_job_listings (2).zip\n",
      "Finished reading 240 chunks of C:\\Users\\jzf02\\Downloads\\temp_datalab_records_job_listings (2).zip\n",
      "Finished reading 250 chunks of C:\\Users\\jzf02\\Downloads\\temp_datalab_records_job_listings (2).zip\n",
      "Finished reading 260 chunks of C:\\Users\\jzf02\\Downloads\\temp_datalab_records_job_listings (2).zip\n",
      "Finished reading 270 chunks of C:\\Users\\jzf02\\Downloads\\temp_datalab_records_job_listings (2).zip\n",
      "Finished reading 280 chunks of C:\\Users\\jzf02\\Downloads\\temp_datalab_records_job_listings (2).zip\n",
      "Finished reading 290 chunks of C:\\Users\\jzf02\\Downloads\\temp_datalab_records_job_listings (2).zip\n",
      "Finished reading 300 chunks of C:\\Users\\jzf02\\Downloads\\temp_datalab_records_job_listings (2).zip\n",
      "Finished reading 310 chunks of C:\\Users\\jzf02\\Downloads\\temp_datalab_records_job_listings (2).zip\n",
      "Finished reading 320 chunks of C:\\Users\\jzf02\\Downloads\\temp_datalab_records_job_listings (2).zip\n",
      "Finished reading 330 chunks of C:\\Users\\jzf02\\Downloads\\temp_datalab_records_job_listings (2).zip\n",
      "Finished reading 340 chunks of C:\\Users\\jzf02\\Downloads\\temp_datalab_records_job_listings (2).zip\n",
      "Finished reading 350 chunks of C:\\Users\\jzf02\\Downloads\\temp_datalab_records_job_listings (2).zip\n",
      "Finished reading 360 chunks of C:\\Users\\jzf02\\Downloads\\temp_datalab_records_job_listings (2).zip\n",
      "Finished reading 370 chunks of C:\\Users\\jzf02\\Downloads\\temp_datalab_records_job_listings (2).zip\n",
      "Finished reading 380 chunks of C:\\Users\\jzf02\\Downloads\\temp_datalab_records_job_listings (2).zip\n",
      "Finished reading 390 chunks of C:\\Users\\jzf02\\Downloads\\temp_datalab_records_job_listings (2).zip\n",
      "Finished reading 400 chunks of C:\\Users\\jzf02\\Downloads\\temp_datalab_records_job_listings (2).zip\n",
      "Finished reading 410 chunks of C:\\Users\\jzf02\\Downloads\\temp_datalab_records_job_listings (2).zip\n",
      "Finished reading 420 chunks of C:\\Users\\jzf02\\Downloads\\temp_datalab_records_job_listings (2).zip\n",
      "Finished reading 430 chunks of C:\\Users\\jzf02\\Downloads\\temp_datalab_records_job_listings (2).zip\n",
      "Finished reading 440 chunks of C:\\Users\\jzf02\\Downloads\\temp_datalab_records_job_listings (2).zip\n",
      "Finished reading 450 chunks of C:\\Users\\jzf02\\Downloads\\temp_datalab_records_job_listings (2).zip\n",
      "Finished reading 460 chunks of C:\\Users\\jzf02\\Downloads\\temp_datalab_records_job_listings (2).zip\n",
      "Finished reading 470 chunks of C:\\Users\\jzf02\\Downloads\\temp_datalab_records_job_listings (2).zip\n",
      "Finished reading 480 chunks of C:\\Users\\jzf02\\Downloads\\temp_datalab_records_job_listings (2).zip\n",
      "Finished reading 490 chunks of C:\\Users\\jzf02\\Downloads\\temp_datalab_records_job_listings (2).zip\n",
      "Finished reading 500 chunks of C:\\Users\\jzf02\\Downloads\\temp_datalab_records_job_listings (2).zip\n",
      "Finished reading 510 chunks of C:\\Users\\jzf02\\Downloads\\temp_datalab_records_job_listings (2).zip\n",
      "Finished reading 520 chunks of C:\\Users\\jzf02\\Downloads\\temp_datalab_records_job_listings (2).zip\n",
      "Finished reading 530 chunks of C:\\Users\\jzf02\\Downloads\\temp_datalab_records_job_listings (2).zip\n",
      "Finished reading 540 chunks of C:\\Users\\jzf02\\Downloads\\temp_datalab_records_job_listings (2).zip\n",
      "Finished reading 550 chunks of C:\\Users\\jzf02\\Downloads\\temp_datalab_records_job_listings (2).zip\n",
      "Finished reading 560 chunks of C:\\Users\\jzf02\\Downloads\\temp_datalab_records_job_listings (2).zip\n",
      "Finished reading 570 chunks of C:\\Users\\jzf02\\Downloads\\temp_datalab_records_job_listings (2).zip\n",
      "Finished reading 580 chunks of C:\\Users\\jzf02\\Downloads\\temp_datalab_records_job_listings (2).zip\n",
      "Finished reading 590 chunks of C:\\Users\\jzf02\\Downloads\\temp_datalab_records_job_listings (2).zip\n",
      "Finished reading 600 chunks of C:\\Users\\jzf02\\Downloads\\temp_datalab_records_job_listings (2).zip\n",
      "Finished reading 610 chunks of C:\\Users\\jzf02\\Downloads\\temp_datalab_records_job_listings (2).zip\n",
      "Finished reading 620 chunks of C:\\Users\\jzf02\\Downloads\\temp_datalab_records_job_listings (2).zip\n",
      "Finished reading 10 chunks of C:\\Users\\jzf02\\Downloads\\temp_datalab_records_job_listings (3).zip\n",
      "Finished reading 20 chunks of C:\\Users\\jzf02\\Downloads\\temp_datalab_records_job_listings (3).zip\n",
      "Finished reading 30 chunks of C:\\Users\\jzf02\\Downloads\\temp_datalab_records_job_listings (3).zip\n",
      "Finished reading 40 chunks of C:\\Users\\jzf02\\Downloads\\temp_datalab_records_job_listings (3).zip\n",
      "Finished reading 50 chunks of C:\\Users\\jzf02\\Downloads\\temp_datalab_records_job_listings (3).zip\n",
      "Finished reading 60 chunks of C:\\Users\\jzf02\\Downloads\\temp_datalab_records_job_listings (3).zip\n",
      "Finished reading 70 chunks of C:\\Users\\jzf02\\Downloads\\temp_datalab_records_job_listings (3).zip\n",
      "Finished reading 80 chunks of C:\\Users\\jzf02\\Downloads\\temp_datalab_records_job_listings (3).zip\n",
      "Finished reading 90 chunks of C:\\Users\\jzf02\\Downloads\\temp_datalab_records_job_listings (3).zip\n",
      "Finished reading 100 chunks of C:\\Users\\jzf02\\Downloads\\temp_datalab_records_job_listings (3).zip\n",
      "Finished reading 110 chunks of C:\\Users\\jzf02\\Downloads\\temp_datalab_records_job_listings (3).zip\n",
      "Finished reading 120 chunks of C:\\Users\\jzf02\\Downloads\\temp_datalab_records_job_listings (3).zip\n",
      "Finished reading 130 chunks of C:\\Users\\jzf02\\Downloads\\temp_datalab_records_job_listings (3).zip\n"
     ]
    },
    {
     "name": "stdout",
     "output_type": "stream",
     "text": [
      "Finished reading 140 chunks of C:\\Users\\jzf02\\Downloads\\temp_datalab_records_job_listings (3).zip\n",
      "Finished reading 150 chunks of C:\\Users\\jzf02\\Downloads\\temp_datalab_records_job_listings (3).zip\n",
      "Finished reading 160 chunks of C:\\Users\\jzf02\\Downloads\\temp_datalab_records_job_listings (3).zip\n",
      "Finished reading 170 chunks of C:\\Users\\jzf02\\Downloads\\temp_datalab_records_job_listings (3).zip\n",
      "Finished reading 180 chunks of C:\\Users\\jzf02\\Downloads\\temp_datalab_records_job_listings (3).zip\n",
      "Finished reading 190 chunks of C:\\Users\\jzf02\\Downloads\\temp_datalab_records_job_listings (3).zip\n",
      "Finished reading 200 chunks of C:\\Users\\jzf02\\Downloads\\temp_datalab_records_job_listings (3).zip\n",
      "Finished reading 210 chunks of C:\\Users\\jzf02\\Downloads\\temp_datalab_records_job_listings (3).zip\n",
      "Finished reading 220 chunks of C:\\Users\\jzf02\\Downloads\\temp_datalab_records_job_listings (3).zip\n",
      "Finished reading 230 chunks of C:\\Users\\jzf02\\Downloads\\temp_datalab_records_job_listings (3).zip\n",
      "Finished reading 240 chunks of C:\\Users\\jzf02\\Downloads\\temp_datalab_records_job_listings (3).zip\n",
      "Finished reading 250 chunks of C:\\Users\\jzf02\\Downloads\\temp_datalab_records_job_listings (3).zip\n",
      "Finished reading 260 chunks of C:\\Users\\jzf02\\Downloads\\temp_datalab_records_job_listings (3).zip\n",
      "Finished reading 270 chunks of C:\\Users\\jzf02\\Downloads\\temp_datalab_records_job_listings (3).zip\n",
      "Finished reading 280 chunks of C:\\Users\\jzf02\\Downloads\\temp_datalab_records_job_listings (3).zip\n",
      "Finished reading 290 chunks of C:\\Users\\jzf02\\Downloads\\temp_datalab_records_job_listings (3).zip\n",
      "Finished reading 300 chunks of C:\\Users\\jzf02\\Downloads\\temp_datalab_records_job_listings (3).zip\n"
     ]
    },
    {
     "name": "stderr",
     "output_type": "stream",
     "text": [
      "C:\\Users\\jzf02\\Anaconda3\\lib\\site-packages\\IPython\\core\\interactiveshell.py:2802: DtypeWarning: Columns (6,7,8,9,10,15) have mixed types. Specify dtype option on import or set low_memory=False.\n",
      "  if self.run_code(code, result):\n"
     ]
    },
    {
     "name": "stdout",
     "output_type": "stream",
     "text": [
      "Finished reading 310 chunks of C:\\Users\\jzf02\\Downloads\\temp_datalab_records_job_listings (3).zip\n",
      "Finished reading 320 chunks of C:\\Users\\jzf02\\Downloads\\temp_datalab_records_job_listings (3).zip\n",
      "Finished reading 330 chunks of C:\\Users\\jzf02\\Downloads\\temp_datalab_records_job_listings (3).zip\n",
      "Finished reading 340 chunks of C:\\Users\\jzf02\\Downloads\\temp_datalab_records_job_listings (3).zip\n",
      "Finished reading 350 chunks of C:\\Users\\jzf02\\Downloads\\temp_datalab_records_job_listings (3).zip\n",
      "Finished reading 360 chunks of C:\\Users\\jzf02\\Downloads\\temp_datalab_records_job_listings (3).zip\n",
      "Finished reading 370 chunks of C:\\Users\\jzf02\\Downloads\\temp_datalab_records_job_listings (3).zip\n",
      "Finished reading 380 chunks of C:\\Users\\jzf02\\Downloads\\temp_datalab_records_job_listings (3).zip\n",
      "Finished reading 390 chunks of C:\\Users\\jzf02\\Downloads\\temp_datalab_records_job_listings (3).zip\n",
      "Finished reading 400 chunks of C:\\Users\\jzf02\\Downloads\\temp_datalab_records_job_listings (3).zip\n",
      "Finished reading 410 chunks of C:\\Users\\jzf02\\Downloads\\temp_datalab_records_job_listings (3).zip\n",
      "Finished reading 420 chunks of C:\\Users\\jzf02\\Downloads\\temp_datalab_records_job_listings (3).zip\n",
      "Finished reading 430 chunks of C:\\Users\\jzf02\\Downloads\\temp_datalab_records_job_listings (3).zip\n",
      "Finished reading 440 chunks of C:\\Users\\jzf02\\Downloads\\temp_datalab_records_job_listings (3).zip\n",
      "Finished reading 450 chunks of C:\\Users\\jzf02\\Downloads\\temp_datalab_records_job_listings (3).zip\n",
      "Finished reading 460 chunks of C:\\Users\\jzf02\\Downloads\\temp_datalab_records_job_listings (3).zip\n",
      "Finished reading 470 chunks of C:\\Users\\jzf02\\Downloads\\temp_datalab_records_job_listings (3).zip\n",
      "Finished reading 480 chunks of C:\\Users\\jzf02\\Downloads\\temp_datalab_records_job_listings (3).zip\n",
      "Finished reading 490 chunks of C:\\Users\\jzf02\\Downloads\\temp_datalab_records_job_listings (3).zip\n",
      "Finished reading 500 chunks of C:\\Users\\jzf02\\Downloads\\temp_datalab_records_job_listings (3).zip\n",
      "Finished reading 510 chunks of C:\\Users\\jzf02\\Downloads\\temp_datalab_records_job_listings (3).zip\n",
      "Finished reading 520 chunks of C:\\Users\\jzf02\\Downloads\\temp_datalab_records_job_listings (3).zip\n",
      "Finished reading 530 chunks of C:\\Users\\jzf02\\Downloads\\temp_datalab_records_job_listings (3).zip\n",
      "Finished reading 540 chunks of C:\\Users\\jzf02\\Downloads\\temp_datalab_records_job_listings (3).zip\n",
      "Finished reading 550 chunks of C:\\Users\\jzf02\\Downloads\\temp_datalab_records_job_listings (3).zip\n",
      "Finished reading 560 chunks of C:\\Users\\jzf02\\Downloads\\temp_datalab_records_job_listings (3).zip\n",
      "Finished reading 570 chunks of C:\\Users\\jzf02\\Downloads\\temp_datalab_records_job_listings (3).zip\n",
      "Finished reading 580 chunks of C:\\Users\\jzf02\\Downloads\\temp_datalab_records_job_listings (3).zip\n",
      "Finished reading 590 chunks of C:\\Users\\jzf02\\Downloads\\temp_datalab_records_job_listings (3).zip\n",
      "Finished reading 600 chunks of C:\\Users\\jzf02\\Downloads\\temp_datalab_records_job_listings (3).zip\n",
      "Finished reading 610 chunks of C:\\Users\\jzf02\\Downloads\\temp_datalab_records_job_listings (3).zip\n",
      "Finished reading 620 chunks of C:\\Users\\jzf02\\Downloads\\temp_datalab_records_job_listings (3).zip\n",
      "Finished reading 630 chunks of C:\\Users\\jzf02\\Downloads\\temp_datalab_records_job_listings (3).zip\n",
      "Finished reading 640 chunks of C:\\Users\\jzf02\\Downloads\\temp_datalab_records_job_listings (3).zip\n",
      "Finished reading 650 chunks of C:\\Users\\jzf02\\Downloads\\temp_datalab_records_job_listings (3).zip\n",
      "Finished reading 660 chunks of C:\\Users\\jzf02\\Downloads\\temp_datalab_records_job_listings (3).zip\n",
      "Finished reading 670 chunks of C:\\Users\\jzf02\\Downloads\\temp_datalab_records_job_listings (3).zip\n",
      "Finished reading 680 chunks of C:\\Users\\jzf02\\Downloads\\temp_datalab_records_job_listings (3).zip\n",
      "Finished reading 690 chunks of C:\\Users\\jzf02\\Downloads\\temp_datalab_records_job_listings (3).zip\n",
      "Finished reading 700 chunks of C:\\Users\\jzf02\\Downloads\\temp_datalab_records_job_listings (3).zip\n",
      "Finished reading 710 chunks of C:\\Users\\jzf02\\Downloads\\temp_datalab_records_job_listings (3).zip\n",
      "Finished reading 720 chunks of C:\\Users\\jzf02\\Downloads\\temp_datalab_records_job_listings (3).zip\n",
      "Finished reading 730 chunks of C:\\Users\\jzf02\\Downloads\\temp_datalab_records_job_listings (3).zip\n",
      "Finished reading 740 chunks of C:\\Users\\jzf02\\Downloads\\temp_datalab_records_job_listings (3).zip\n",
      "Finished reading 750 chunks of C:\\Users\\jzf02\\Downloads\\temp_datalab_records_job_listings (3).zip\n",
      "Finished reading 760 chunks of C:\\Users\\jzf02\\Downloads\\temp_datalab_records_job_listings (3).zip\n",
      "Finished reading 770 chunks of C:\\Users\\jzf02\\Downloads\\temp_datalab_records_job_listings (3).zip\n",
      "Finished reading 780 chunks of C:\\Users\\jzf02\\Downloads\\temp_datalab_records_job_listings (3).zip\n",
      "Finished reading 10 chunks of C:\\Users\\jzf02\\Downloads\\temp_datalab_records_job_listings (4).zip\n",
      "Finished reading 20 chunks of C:\\Users\\jzf02\\Downloads\\temp_datalab_records_job_listings (4).zip\n",
      "Finished reading 30 chunks of C:\\Users\\jzf02\\Downloads\\temp_datalab_records_job_listings (4).zip\n",
      "Finished reading 40 chunks of C:\\Users\\jzf02\\Downloads\\temp_datalab_records_job_listings (4).zip\n",
      "Finished reading 50 chunks of C:\\Users\\jzf02\\Downloads\\temp_datalab_records_job_listings (4).zip\n",
      "Finished reading 60 chunks of C:\\Users\\jzf02\\Downloads\\temp_datalab_records_job_listings (4).zip\n",
      "Finished reading 70 chunks of C:\\Users\\jzf02\\Downloads\\temp_datalab_records_job_listings (4).zip\n",
      "Finished reading 80 chunks of C:\\Users\\jzf02\\Downloads\\temp_datalab_records_job_listings (4).zip\n",
      "Finished reading 90 chunks of C:\\Users\\jzf02\\Downloads\\temp_datalab_records_job_listings (4).zip\n",
      "Finished reading 100 chunks of C:\\Users\\jzf02\\Downloads\\temp_datalab_records_job_listings (4).zip\n",
      "Finished reading 110 chunks of C:\\Users\\jzf02\\Downloads\\temp_datalab_records_job_listings (4).zip\n",
      "Finished reading 120 chunks of C:\\Users\\jzf02\\Downloads\\temp_datalab_records_job_listings (4).zip\n",
      "Finished reading 130 chunks of C:\\Users\\jzf02\\Downloads\\temp_datalab_records_job_listings (4).zip\n",
      "Finished reading 140 chunks of C:\\Users\\jzf02\\Downloads\\temp_datalab_records_job_listings (4).zip\n",
      "Finished reading 150 chunks of C:\\Users\\jzf02\\Downloads\\temp_datalab_records_job_listings (4).zip\n",
      "Finished reading 160 chunks of C:\\Users\\jzf02\\Downloads\\temp_datalab_records_job_listings (4).zip\n",
      "Finished reading 170 chunks of C:\\Users\\jzf02\\Downloads\\temp_datalab_records_job_listings (4).zip\n",
      "Finished reading 180 chunks of C:\\Users\\jzf02\\Downloads\\temp_datalab_records_job_listings (4).zip\n",
      "Finished reading 190 chunks of C:\\Users\\jzf02\\Downloads\\temp_datalab_records_job_listings (4).zip\n",
      "Finished reading 200 chunks of C:\\Users\\jzf02\\Downloads\\temp_datalab_records_job_listings (4).zip\n",
      "Finished reading 210 chunks of C:\\Users\\jzf02\\Downloads\\temp_datalab_records_job_listings (4).zip\n",
      "Finished reading 220 chunks of C:\\Users\\jzf02\\Downloads\\temp_datalab_records_job_listings (4).zip\n",
      "Finished reading 230 chunks of C:\\Users\\jzf02\\Downloads\\temp_datalab_records_job_listings (4).zip\n",
      "Finished reading 240 chunks of C:\\Users\\jzf02\\Downloads\\temp_datalab_records_job_listings (4).zip\n",
      "Finished reading 250 chunks of C:\\Users\\jzf02\\Downloads\\temp_datalab_records_job_listings (4).zip\n",
      "Finished reading 260 chunks of C:\\Users\\jzf02\\Downloads\\temp_datalab_records_job_listings (4).zip\n",
      "Finished reading 270 chunks of C:\\Users\\jzf02\\Downloads\\temp_datalab_records_job_listings (4).zip\n",
      "Finished reading 280 chunks of C:\\Users\\jzf02\\Downloads\\temp_datalab_records_job_listings (4).zip\n",
      "Finished reading 290 chunks of C:\\Users\\jzf02\\Downloads\\temp_datalab_records_job_listings (4).zip\n",
      "Finished reading 300 chunks of C:\\Users\\jzf02\\Downloads\\temp_datalab_records_job_listings (4).zip\n",
      "Finished reading 310 chunks of C:\\Users\\jzf02\\Downloads\\temp_datalab_records_job_listings (4).zip\n",
      "Finished reading 320 chunks of C:\\Users\\jzf02\\Downloads\\temp_datalab_records_job_listings (4).zip\n",
      "Finished reading 330 chunks of C:\\Users\\jzf02\\Downloads\\temp_datalab_records_job_listings (4).zip\n",
      "Finished reading 340 chunks of C:\\Users\\jzf02\\Downloads\\temp_datalab_records_job_listings (4).zip\n",
      "Finished reading 350 chunks of C:\\Users\\jzf02\\Downloads\\temp_datalab_records_job_listings (4).zip\n",
      "Finished reading 10 chunks of C:\\Users\\jzf02\\Downloads\\temp_datalab_records_job_listings (5).zip\n"
     ]
    },
    {
     "name": "stdout",
     "output_type": "stream",
     "text": [
      "Finished reading 20 chunks of C:\\Users\\jzf02\\Downloads\\temp_datalab_records_job_listings (5).zip\n",
      "Finished reading 30 chunks of C:\\Users\\jzf02\\Downloads\\temp_datalab_records_job_listings (5).zip\n",
      "Finished reading 40 chunks of C:\\Users\\jzf02\\Downloads\\temp_datalab_records_job_listings (5).zip\n",
      "Finished reading 50 chunks of C:\\Users\\jzf02\\Downloads\\temp_datalab_records_job_listings (5).zip\n",
      "Finished reading 60 chunks of C:\\Users\\jzf02\\Downloads\\temp_datalab_records_job_listings (5).zip\n"
     ]
    },
    {
     "name": "stderr",
     "output_type": "stream",
     "text": [
      "C:\\Users\\jzf02\\Anaconda3\\lib\\site-packages\\IPython\\core\\interactiveshell.py:2802: DtypeWarning: Columns (6,15) have mixed types. Specify dtype option on import or set low_memory=False.\n",
      "  if self.run_code(code, result):\n"
     ]
    },
    {
     "name": "stdout",
     "output_type": "stream",
     "text": [
      "Finished reading 70 chunks of C:\\Users\\jzf02\\Downloads\\temp_datalab_records_job_listings (5).zip\n",
      "Finished reading 80 chunks of C:\\Users\\jzf02\\Downloads\\temp_datalab_records_job_listings (5).zip\n",
      "Finished reading 90 chunks of C:\\Users\\jzf02\\Downloads\\temp_datalab_records_job_listings (5).zip\n",
      "Finished reading 100 chunks of C:\\Users\\jzf02\\Downloads\\temp_datalab_records_job_listings (5).zip\n"
     ]
    },
    {
     "name": "stderr",
     "output_type": "stream",
     "text": [
      "C:\\Users\\jzf02\\Anaconda3\\lib\\site-packages\\IPython\\core\\interactiveshell.py:2802: DtypeWarning: Columns (15) have mixed types. Specify dtype option on import or set low_memory=False.\n",
      "  if self.run_code(code, result):\n"
     ]
    },
    {
     "name": "stdout",
     "output_type": "stream",
     "text": [
      "Finished reading 110 chunks of C:\\Users\\jzf02\\Downloads\\temp_datalab_records_job_listings (5).zip\n",
      "Finished reading 120 chunks of C:\\Users\\jzf02\\Downloads\\temp_datalab_records_job_listings (5).zip\n",
      "Finished reading 130 chunks of C:\\Users\\jzf02\\Downloads\\temp_datalab_records_job_listings (5).zip\n",
      "Finished reading 140 chunks of C:\\Users\\jzf02\\Downloads\\temp_datalab_records_job_listings (5).zip\n",
      "Finished reading 150 chunks of C:\\Users\\jzf02\\Downloads\\temp_datalab_records_job_listings (5).zip\n",
      "Finished reading 160 chunks of C:\\Users\\jzf02\\Downloads\\temp_datalab_records_job_listings (5).zip\n",
      "Finished reading 170 chunks of C:\\Users\\jzf02\\Downloads\\temp_datalab_records_job_listings (5).zip\n",
      "Finished reading 180 chunks of C:\\Users\\jzf02\\Downloads\\temp_datalab_records_job_listings (5).zip\n",
      "Finished reading 190 chunks of C:\\Users\\jzf02\\Downloads\\temp_datalab_records_job_listings (5).zip\n",
      "Finished reading 200 chunks of C:\\Users\\jzf02\\Downloads\\temp_datalab_records_job_listings (5).zip\n",
      "Finished reading 210 chunks of C:\\Users\\jzf02\\Downloads\\temp_datalab_records_job_listings (5).zip\n",
      "Finished reading 220 chunks of C:\\Users\\jzf02\\Downloads\\temp_datalab_records_job_listings (5).zip\n",
      "Finished reading 230 chunks of C:\\Users\\jzf02\\Downloads\\temp_datalab_records_job_listings (5).zip\n",
      "Finished reading 240 chunks of C:\\Users\\jzf02\\Downloads\\temp_datalab_records_job_listings (5).zip\n",
      "Finished reading 250 chunks of C:\\Users\\jzf02\\Downloads\\temp_datalab_records_job_listings (5).zip\n",
      "Finished reading 260 chunks of C:\\Users\\jzf02\\Downloads\\temp_datalab_records_job_listings (5).zip\n",
      "Finished reading 270 chunks of C:\\Users\\jzf02\\Downloads\\temp_datalab_records_job_listings (5).zip\n",
      "Finished reading 280 chunks of C:\\Users\\jzf02\\Downloads\\temp_datalab_records_job_listings (5).zip\n",
      "Finished reading 290 chunks of C:\\Users\\jzf02\\Downloads\\temp_datalab_records_job_listings (5).zip\n",
      "Finished reading 300 chunks of C:\\Users\\jzf02\\Downloads\\temp_datalab_records_job_listings (5).zip\n",
      "Finished reading 310 chunks of C:\\Users\\jzf02\\Downloads\\temp_datalab_records_job_listings (5).zip\n",
      "Finished reading 320 chunks of C:\\Users\\jzf02\\Downloads\\temp_datalab_records_job_listings (5).zip\n",
      "Finished reading 330 chunks of C:\\Users\\jzf02\\Downloads\\temp_datalab_records_job_listings (5).zip\n",
      "Finished reading 340 chunks of C:\\Users\\jzf02\\Downloads\\temp_datalab_records_job_listings (5).zip\n",
      "Finished reading 350 chunks of C:\\Users\\jzf02\\Downloads\\temp_datalab_records_job_listings (5).zip\n",
      "Finished reading 360 chunks of C:\\Users\\jzf02\\Downloads\\temp_datalab_records_job_listings (5).zip\n",
      "Finished reading 370 chunks of C:\\Users\\jzf02\\Downloads\\temp_datalab_records_job_listings (5).zip\n",
      "Finished reading 380 chunks of C:\\Users\\jzf02\\Downloads\\temp_datalab_records_job_listings (5).zip\n",
      "Finished reading 390 chunks of C:\\Users\\jzf02\\Downloads\\temp_datalab_records_job_listings (5).zip\n",
      "Finished reading 400 chunks of C:\\Users\\jzf02\\Downloads\\temp_datalab_records_job_listings (5).zip\n",
      "Finished reading 410 chunks of C:\\Users\\jzf02\\Downloads\\temp_datalab_records_job_listings (5).zip\n",
      "Finished reading 420 chunks of C:\\Users\\jzf02\\Downloads\\temp_datalab_records_job_listings (5).zip\n",
      "Finished reading 430 chunks of C:\\Users\\jzf02\\Downloads\\temp_datalab_records_job_listings (5).zip\n",
      "Finished reading 440 chunks of C:\\Users\\jzf02\\Downloads\\temp_datalab_records_job_listings (5).zip\n",
      "Finished reading 450 chunks of C:\\Users\\jzf02\\Downloads\\temp_datalab_records_job_listings (5).zip\n",
      "Finished reading 460 chunks of C:\\Users\\jzf02\\Downloads\\temp_datalab_records_job_listings (5).zip\n",
      "Finished reading 470 chunks of C:\\Users\\jzf02\\Downloads\\temp_datalab_records_job_listings (5).zip\n",
      "Finished reading 480 chunks of C:\\Users\\jzf02\\Downloads\\temp_datalab_records_job_listings (5).zip\n",
      "Finished reading 490 chunks of C:\\Users\\jzf02\\Downloads\\temp_datalab_records_job_listings (5).zip\n",
      "Finished reading 500 chunks of C:\\Users\\jzf02\\Downloads\\temp_datalab_records_job_listings (5).zip\n",
      "Finished reading 510 chunks of C:\\Users\\jzf02\\Downloads\\temp_datalab_records_job_listings (5).zip\n",
      "Finished reading 10 chunks of C:\\Users\\jzf02\\Downloads\\temp_datalab_records_job_listings (6).zip\n"
     ]
    },
    {
     "name": "stderr",
     "output_type": "stream",
     "text": [
      "C:\\Users\\jzf02\\Anaconda3\\lib\\site-packages\\IPython\\core\\interactiveshell.py:2802: DtypeWarning: Columns (6,7,15) have mixed types. Specify dtype option on import or set low_memory=False.\n",
      "  if self.run_code(code, result):\n"
     ]
    },
    {
     "name": "stdout",
     "output_type": "stream",
     "text": [
      "Finished reading 20 chunks of C:\\Users\\jzf02\\Downloads\\temp_datalab_records_job_listings (6).zip\n",
      "Finished reading 30 chunks of C:\\Users\\jzf02\\Downloads\\temp_datalab_records_job_listings (6).zip\n",
      "Finished reading 40 chunks of C:\\Users\\jzf02\\Downloads\\temp_datalab_records_job_listings (6).zip\n",
      "Finished reading 50 chunks of C:\\Users\\jzf02\\Downloads\\temp_datalab_records_job_listings (6).zip\n",
      "Finished reading 60 chunks of C:\\Users\\jzf02\\Downloads\\temp_datalab_records_job_listings (6).zip\n",
      "Finished reading 70 chunks of C:\\Users\\jzf02\\Downloads\\temp_datalab_records_job_listings (6).zip\n",
      "Finished reading 80 chunks of C:\\Users\\jzf02\\Downloads\\temp_datalab_records_job_listings (6).zip\n",
      "Finished reading 90 chunks of C:\\Users\\jzf02\\Downloads\\temp_datalab_records_job_listings (6).zip\n",
      "Finished reading 100 chunks of C:\\Users\\jzf02\\Downloads\\temp_datalab_records_job_listings (6).zip\n",
      "Finished reading 110 chunks of C:\\Users\\jzf02\\Downloads\\temp_datalab_records_job_listings (6).zip\n",
      "Finished reading 120 chunks of C:\\Users\\jzf02\\Downloads\\temp_datalab_records_job_listings (6).zip\n",
      "Finished reading 130 chunks of C:\\Users\\jzf02\\Downloads\\temp_datalab_records_job_listings (6).zip\n",
      "Finished reading 140 chunks of C:\\Users\\jzf02\\Downloads\\temp_datalab_records_job_listings (6).zip\n",
      "Finished reading 150 chunks of C:\\Users\\jzf02\\Downloads\\temp_datalab_records_job_listings (6).zip\n",
      "Finished reading 160 chunks of C:\\Users\\jzf02\\Downloads\\temp_datalab_records_job_listings (6).zip\n",
      "Finished reading 170 chunks of C:\\Users\\jzf02\\Downloads\\temp_datalab_records_job_listings (6).zip\n",
      "Finished reading 180 chunks of C:\\Users\\jzf02\\Downloads\\temp_datalab_records_job_listings (6).zip\n",
      "Finished reading 190 chunks of C:\\Users\\jzf02\\Downloads\\temp_datalab_records_job_listings (6).zip\n",
      "Finished reading 200 chunks of C:\\Users\\jzf02\\Downloads\\temp_datalab_records_job_listings (6).zip\n",
      "Finished reading 210 chunks of C:\\Users\\jzf02\\Downloads\\temp_datalab_records_job_listings (6).zip\n",
      "Finished reading 220 chunks of C:\\Users\\jzf02\\Downloads\\temp_datalab_records_job_listings (6).zip\n",
      "Finished reading 230 chunks of C:\\Users\\jzf02\\Downloads\\temp_datalab_records_job_listings (6).zip\n",
      "Finished reading 240 chunks of C:\\Users\\jzf02\\Downloads\\temp_datalab_records_job_listings (6).zip\n",
      "Finished reading 250 chunks of C:\\Users\\jzf02\\Downloads\\temp_datalab_records_job_listings (6).zip\n",
      "Finished reading 260 chunks of C:\\Users\\jzf02\\Downloads\\temp_datalab_records_job_listings (6).zip\n",
      "Finished reading 270 chunks of C:\\Users\\jzf02\\Downloads\\temp_datalab_records_job_listings (6).zip\n",
      "Finished reading 280 chunks of C:\\Users\\jzf02\\Downloads\\temp_datalab_records_job_listings (6).zip\n",
      "Finished reading 290 chunks of C:\\Users\\jzf02\\Downloads\\temp_datalab_records_job_listings (6).zip\n",
      "Finished reading 300 chunks of C:\\Users\\jzf02\\Downloads\\temp_datalab_records_job_listings (6).zip\n",
      "Finished reading 310 chunks of C:\\Users\\jzf02\\Downloads\\temp_datalab_records_job_listings (6).zip\n",
      "Finished reading 320 chunks of C:\\Users\\jzf02\\Downloads\\temp_datalab_records_job_listings (6).zip\n",
      "Finished reading 330 chunks of C:\\Users\\jzf02\\Downloads\\temp_datalab_records_job_listings (6).zip\n",
      "Finished reading 340 chunks of C:\\Users\\jzf02\\Downloads\\temp_datalab_records_job_listings (6).zip\n",
      "Finished reading 350 chunks of C:\\Users\\jzf02\\Downloads\\temp_datalab_records_job_listings (6).zip\n",
      "Finished reading 360 chunks of C:\\Users\\jzf02\\Downloads\\temp_datalab_records_job_listings (6).zip\n",
      "Finished reading 370 chunks of C:\\Users\\jzf02\\Downloads\\temp_datalab_records_job_listings (6).zip\n",
      "Finished reading 380 chunks of C:\\Users\\jzf02\\Downloads\\temp_datalab_records_job_listings (6).zip\n",
      "Finished reading 390 chunks of C:\\Users\\jzf02\\Downloads\\temp_datalab_records_job_listings (6).zip\n",
      "Finished reading 400 chunks of C:\\Users\\jzf02\\Downloads\\temp_datalab_records_job_listings (6).zip\n",
      "Finished reading 410 chunks of C:\\Users\\jzf02\\Downloads\\temp_datalab_records_job_listings (6).zip\n",
      "Finished reading 420 chunks of C:\\Users\\jzf02\\Downloads\\temp_datalab_records_job_listings (6).zip\n",
      "Finished reading 430 chunks of C:\\Users\\jzf02\\Downloads\\temp_datalab_records_job_listings (6).zip\n",
      "Finished reading 440 chunks of C:\\Users\\jzf02\\Downloads\\temp_datalab_records_job_listings (6).zip\n",
      "Finished reading 450 chunks of C:\\Users\\jzf02\\Downloads\\temp_datalab_records_job_listings (6).zip\n",
      "Finished reading 460 chunks of C:\\Users\\jzf02\\Downloads\\temp_datalab_records_job_listings (6).zip\n",
      "Finished reading 470 chunks of C:\\Users\\jzf02\\Downloads\\temp_datalab_records_job_listings (6).zip\n",
      "Finished reading 10 chunks of C:\\Users\\jzf02\\Downloads\\temp_datalab_records_job_listings (7).zip\n",
      "Finished reading 20 chunks of C:\\Users\\jzf02\\Downloads\\temp_datalab_records_job_listings (7).zip\n",
      "Finished reading 30 chunks of C:\\Users\\jzf02\\Downloads\\temp_datalab_records_job_listings (7).zip\n",
      "Finished reading 40 chunks of C:\\Users\\jzf02\\Downloads\\temp_datalab_records_job_listings (7).zip\n",
      "Finished reading 50 chunks of C:\\Users\\jzf02\\Downloads\\temp_datalab_records_job_listings (7).zip\n",
      "Finished reading 60 chunks of C:\\Users\\jzf02\\Downloads\\temp_datalab_records_job_listings (7).zip\n",
      "Finished reading 70 chunks of C:\\Users\\jzf02\\Downloads\\temp_datalab_records_job_listings (7).zip\n",
      "Finished reading 80 chunks of C:\\Users\\jzf02\\Downloads\\temp_datalab_records_job_listings (7).zip\n",
      "Finished reading 90 chunks of C:\\Users\\jzf02\\Downloads\\temp_datalab_records_job_listings (7).zip\n",
      "Finished reading 100 chunks of C:\\Users\\jzf02\\Downloads\\temp_datalab_records_job_listings (7).zip\n",
      "Finished reading 110 chunks of C:\\Users\\jzf02\\Downloads\\temp_datalab_records_job_listings (7).zip\n",
      "Finished reading 120 chunks of C:\\Users\\jzf02\\Downloads\\temp_datalab_records_job_listings (7).zip\n",
      "Finished reading 130 chunks of C:\\Users\\jzf02\\Downloads\\temp_datalab_records_job_listings (7).zip\n",
      "Finished reading 140 chunks of C:\\Users\\jzf02\\Downloads\\temp_datalab_records_job_listings (7).zip\n",
      "Finished reading 150 chunks of C:\\Users\\jzf02\\Downloads\\temp_datalab_records_job_listings (7).zip\n",
      "Finished reading 160 chunks of C:\\Users\\jzf02\\Downloads\\temp_datalab_records_job_listings (7).zip\n",
      "Finished reading 170 chunks of C:\\Users\\jzf02\\Downloads\\temp_datalab_records_job_listings (7).zip\n",
      "Finished reading 180 chunks of C:\\Users\\jzf02\\Downloads\\temp_datalab_records_job_listings (7).zip\n",
      "Finished reading 190 chunks of C:\\Users\\jzf02\\Downloads\\temp_datalab_records_job_listings (7).zip\n",
      "Finished reading 200 chunks of C:\\Users\\jzf02\\Downloads\\temp_datalab_records_job_listings (7).zip\n",
      "Finished reading 210 chunks of C:\\Users\\jzf02\\Downloads\\temp_datalab_records_job_listings (7).zip\n",
      "Finished reading 220 chunks of C:\\Users\\jzf02\\Downloads\\temp_datalab_records_job_listings (7).zip\n",
      "Finished reading 230 chunks of C:\\Users\\jzf02\\Downloads\\temp_datalab_records_job_listings (7).zip\n",
      "Finished reading 240 chunks of C:\\Users\\jzf02\\Downloads\\temp_datalab_records_job_listings (7).zip\n",
      "Finished reading 250 chunks of C:\\Users\\jzf02\\Downloads\\temp_datalab_records_job_listings (7).zip\n",
      "Finished reading 260 chunks of C:\\Users\\jzf02\\Downloads\\temp_datalab_records_job_listings (7).zip\n",
      "Finished reading 270 chunks of C:\\Users\\jzf02\\Downloads\\temp_datalab_records_job_listings (7).zip\n",
      "Finished reading 280 chunks of C:\\Users\\jzf02\\Downloads\\temp_datalab_records_job_listings (7).zip\n",
      "Finished reading 290 chunks of C:\\Users\\jzf02\\Downloads\\temp_datalab_records_job_listings (7).zip\n",
      "Finished reading 300 chunks of C:\\Users\\jzf02\\Downloads\\temp_datalab_records_job_listings (7).zip\n",
      "Finished reading 310 chunks of C:\\Users\\jzf02\\Downloads\\temp_datalab_records_job_listings (7).zip\n",
      "Finished reading 320 chunks of C:\\Users\\jzf02\\Downloads\\temp_datalab_records_job_listings (7).zip\n",
      "Finished reading 330 chunks of C:\\Users\\jzf02\\Downloads\\temp_datalab_records_job_listings (7).zip\n",
      "Finished reading 340 chunks of C:\\Users\\jzf02\\Downloads\\temp_datalab_records_job_listings (7).zip\n",
      "Finished reading 350 chunks of C:\\Users\\jzf02\\Downloads\\temp_datalab_records_job_listings (7).zip\n",
      "Finished reading 360 chunks of C:\\Users\\jzf02\\Downloads\\temp_datalab_records_job_listings (7).zip\n",
      "Finished reading 370 chunks of C:\\Users\\jzf02\\Downloads\\temp_datalab_records_job_listings (7).zip\n"
     ]
    }
   ],
   "source": [
    "mask = (df2['as_of_date'] == df2['as_of_date'].max())& (df2['industry'].isin(['Pharmaceuticals', 'Biotechnology']))\n",
    "df_bio = df2[mask].copy()\n",
    "df_bio.sort_values(by='followers_count', inplace=True, ascending=False)\n",
    "\n",
    "\n",
    "bio_companies = set(df2['company_name'][df2['industry'].isin(['Pharmaceuticals', 'Biotechnology'])])\n",
    "bio_short = [_k.split()[0].lower() for _k in bio_companies]\n",
    "#bio_short\n",
    "#df2[df2['company_name'].str.contains('Lilly')]\n",
    "\n",
    "df_bio.head(10)\n",
    "df_bio.head()\n",
    "domain_names = df_bio['website'].apply(lambda t: t.split('.')[-2].split('/')[-1] if type(t) == str else '')\n",
    "curr_names = list(domain_names)[:10]\n",
    "data = read_domains(curr_names)\n",
    "data.to_pickle('data_bio7.pkl')"
   ]
  },
  {
   "cell_type": "code",
   "execution_count": 5,
   "metadata": {
    "collapsed": true
   },
   "outputs": [],
   "source": [
    "grouped = data[['domain', 'as_of_date', 'title', 'listing_id', 'posted_date']].groupby('listing_id')\n",
    "dur = grouped.min()\n",
    "dur['Duration'] = grouped.max()['as_of_date'] - dur['as_of_date']\n"
   ]
  },
  {
   "cell_type": "code",
   "execution_count": 22,
   "metadata": {},
   "outputs": [
    {
     "data": {
      "image/png": "[encoded data removed]",
      "text/plain": [
       "<matplotlib.figure.Figure at 0x1b0c1f786d8>"
      ]
     },
     "metadata": {},
     "output_type": "display_data"
    }
   ],
   "source": [
    "domain_map = defaultdict(str)\n",
    "curr_names = domain_names[:10]\n",
    "\n",
    "for domain in set(dur['domain']):\n",
    "    for domain_name in curr_names:\n",
    "        if domain_name in domain:\n",
    "            domain_map[domain] = domain_name\n",
    "\n",
    "dur['Days'] = dur['Duration'].apply(lambda t:t.days)\n",
    "dur['Name'] = dur['domain'].apply(lambda t: domain_map[t] )\n",
    "dur_1s = dur['Days'].mean() + 1*dur['Days'].std()\n",
    "ax1 = sns.violinplot(data=dur[dur['Days']<dur_1s], x = 'Days', y='Name', cut=0)\n",
    "ax1.set_ylabel('Company')\n",
    "ax1.set_xlabel('Duration (days)')\n",
    "#ax1.set_xlim(0, 80)\n",
    "plt.tight_layout(rect=[0.06, 0.02, 1, 1])\n",
    "\n",
    "plt.savefig('fig_posting_1.png', dpi=300)\n",
    "plt.show()"
   ]
  },
  {
   "cell_type": "code",
   "execution_count": 23,
   "metadata": {},
   "outputs": [
    {
     "data": {
      "image/png": "[encoded data removed]",
      "text/plain": [
       "<matplotlib.figure.Figure at 0x1b0c100e518>"
      ]
     },
     "metadata": {},
     "output_type": "display_data"
    }
   ],
   "source": [
    "grouped = dur.groupby('title')\n",
    "df_title = grouped.count().sort_values('domain', ascending=False)\n",
    "\n",
    "top_titles = (df_title.index[df_title.index.str.contains('Research')])\n",
    "\n",
    "ax1 = sns.violinplot(data=dur[dur['title'].isin(top_titles[:6])], x='Days', y='title', cut=0)\n",
    "#labels = ax1.get_yticklabels()\n",
    "#ax1.set_yticklabels(labels, rotation=90)\n",
    "ax1.set_ylabel('Posting')\n",
    "ax1.set_xlabel('Duration (days)')\n",
    "ax1.set_xlim(0, 150)\n",
    "#plt.tight_layout()\n",
    "\n",
    "plt.savefig('fig_posting_2.png', dpi=300)\n",
    "plt.show()\n"
   ]
  },
  {
   "cell_type": "code",
   "execution_count": 16,
   "metadata": {},
   "outputs": [
    {
     "data": {
      "text/plain": [
       "Days    185.649692\n",
       "dtype: float64"
      ]
     },
     "execution_count": 16,
     "metadata": {},
     "output_type": "execute_result"
    }
   ],
   "source": [
    "dur.mean()+dur.std()*3"
   ]
  },
  {
   "cell_type": "code",
   "execution_count": null,
   "metadata": {
    "collapsed": true
   },
   "outputs": [],
   "source": []
  }
 ],
 "metadata": {
  "kernelspec": {
   "display_name": "Python 3",
   "language": "python",
   "name": "python3"
  },
  "language_info": {
   "codemirror_mode": {
    "name": "ipython",
    "version": 3
   },
   "file_extension": ".py",
   "mimetype": "text/x-python",
   "name": "python",
   "nbconvert_exporter": "python",
   "pygments_lexer": "ipython3",
   "version": "3.6.3"
  }
 },
 "nbformat": 4,
 "nbformat_minor": 2
}
